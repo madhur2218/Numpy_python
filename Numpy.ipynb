{
 "cells": [
  {
   "cell_type": "code",
   "execution_count": 1,
   "id": "2d68ddb5",
   "metadata": {},
   "outputs": [],
   "source": [
    "import numpy as np"
   ]
  },
  {
   "cell_type": "code",
   "execution_count": 2,
   "id": "d936d428",
   "metadata": {},
   "outputs": [],
   "source": [
    "l1=[1,2,3,4,5,6]\n",
    "array=np.array(l1)"
   ]
  },
  {
   "cell_type": "code",
   "execution_count": 3,
   "id": "1d753dbb",
   "metadata": {},
   "outputs": [
    {
     "data": {
      "text/plain": [
       "array([1, 2, 3, 4, 5, 6])"
      ]
     },
     "execution_count": 3,
     "metadata": {},
     "output_type": "execute_result"
    }
   ],
   "source": [
    "array"
   ]
  },
  {
   "cell_type": "code",
   "execution_count": 4,
   "id": "db71fafa",
   "metadata": {},
   "outputs": [
    {
     "data": {
      "text/plain": [
       "numpy.ndarray"
      ]
     },
     "execution_count": 4,
     "metadata": {},
     "output_type": "execute_result"
    }
   ],
   "source": [
    "type(array)"
   ]
  },
  {
   "cell_type": "code",
   "execution_count": 10,
   "id": "13794db3",
   "metadata": {},
   "outputs": [
    {
     "data": {
      "text/plain": [
       "array([[1, 2, 3],\n",
       "       [5, 4, 3],\n",
       "       [7, 8, 9]])"
      ]
     },
     "execution_count": 10,
     "metadata": {},
     "output_type": "execute_result"
    }
   ],
   "source": [
    "arr1=np.array([[1,2,3],[5,4,3],[7,8,9]])\n",
    "arr1"
   ]
  },
  {
   "cell_type": "code",
   "execution_count": 11,
   "id": "cde46b9e",
   "metadata": {},
   "outputs": [
    {
     "data": {
      "text/plain": [
       "array([1, 2, 3, 4, 5, 6, 7, 8, 9])"
      ]
     },
     "execution_count": 11,
     "metadata": {},
     "output_type": "execute_result"
    }
   ],
   "source": [
    "np.arange(1,10)"
   ]
  },
  {
   "cell_type": "code",
   "execution_count": 12,
   "id": "3303080e",
   "metadata": {},
   "outputs": [
    {
     "data": {
      "text/plain": [
       "numpy.ndarray"
      ]
     },
     "execution_count": 12,
     "metadata": {},
     "output_type": "execute_result"
    }
   ],
   "source": [
    "type(np.arange(1,10))"
   ]
  },
  {
   "cell_type": "code",
   "execution_count": 14,
   "id": "cb71b71e",
   "metadata": {},
   "outputs": [
    {
     "data": {
      "text/plain": [
       "array([10, 12, 14, 16, 18])"
      ]
     },
     "execution_count": 14,
     "metadata": {},
     "output_type": "execute_result"
    }
   ],
   "source": [
    "np.arange(10,20,2)"
   ]
  },
  {
   "cell_type": "code",
   "execution_count": 20,
   "id": "af827ce2",
   "metadata": {},
   "outputs": [
    {
     "data": {
      "text/plain": [
       "array([11, 13, 15, 17, 19])"
      ]
     },
     "execution_count": 20,
     "metadata": {},
     "output_type": "execute_result"
    }
   ],
   "source": [
    "np.arange(11,20,2)"
   ]
  },
  {
   "cell_type": "code",
   "execution_count": 21,
   "id": "7dc6bb03",
   "metadata": {},
   "outputs": [
    {
     "data": {
      "text/plain": [
       "array([0., 0., 0., 0., 0.])"
      ]
     },
     "execution_count": 21,
     "metadata": {},
     "output_type": "execute_result"
    }
   ],
   "source": [
    "np.zeros(5)"
   ]
  },
  {
   "cell_type": "code",
   "execution_count": 23,
   "id": "31750e34",
   "metadata": {},
   "outputs": [
    {
     "data": {
      "text/plain": [
       "array([[0., 0., 0., 0., 0.],\n",
       "       [0., 0., 0., 0., 0.],\n",
       "       [0., 0., 0., 0., 0.],\n",
       "       [0., 0., 0., 0., 0.],\n",
       "       [0., 0., 0., 0., 0.]])"
      ]
     },
     "execution_count": 23,
     "metadata": {},
     "output_type": "execute_result"
    }
   ],
   "source": [
    "np.zeros([5,5])"
   ]
  },
  {
   "cell_type": "code",
   "execution_count": 24,
   "id": "31e5c347",
   "metadata": {},
   "outputs": [
    {
     "data": {
      "text/plain": [
       "array([1., 1., 1.])"
      ]
     },
     "execution_count": 24,
     "metadata": {},
     "output_type": "execute_result"
    }
   ],
   "source": [
    "np.ones(3)"
   ]
  },
  {
   "cell_type": "code",
   "execution_count": 25,
   "id": "902efc57",
   "metadata": {},
   "outputs": [
    {
     "data": {
      "text/plain": [
       "array([[1., 1., 1.],\n",
       "       [1., 1., 1.],\n",
       "       [1., 1., 1.]])"
      ]
     },
     "execution_count": 25,
     "metadata": {},
     "output_type": "execute_result"
    }
   ],
   "source": [
    "np.ones([3,3])"
   ]
  },
  {
   "cell_type": "code",
   "execution_count": 27,
   "id": "1120d670",
   "metadata": {},
   "outputs": [
    {
     "data": {
      "text/plain": [
       "array([[1., 1., 1.],\n",
       "       [1., 1., 1.],\n",
       "       [1., 1., 1.]])"
      ]
     },
     "execution_count": 27,
     "metadata": {},
     "output_type": "execute_result"
    }
   ],
   "source": [
    "np.ones((3,3))"
   ]
  },
  {
   "cell_type": "code",
   "execution_count": 30,
   "id": "3064fb1c",
   "metadata": {},
   "outputs": [
    {
     "data": {
      "text/plain": [
       "array([ 0. , 12.5, 25. , 37.5, 50. ])"
      ]
     },
     "execution_count": 30,
     "metadata": {},
     "output_type": "execute_result"
    }
   ],
   "source": [
    "np.linspace(0,50,5)"
   ]
  },
  {
   "cell_type": "code",
   "execution_count": 31,
   "id": "ecd8da28",
   "metadata": {},
   "outputs": [
    {
     "data": {
      "text/plain": [
       "array([[1., 0., 0., 0., 0.],\n",
       "       [0., 1., 0., 0., 0.],\n",
       "       [0., 0., 1., 0., 0.],\n",
       "       [0., 0., 0., 1., 0.],\n",
       "       [0., 0., 0., 0., 1.]])"
      ]
     },
     "execution_count": 31,
     "metadata": {},
     "output_type": "execute_result"
    }
   ],
   "source": [
    "np.eye(5)"
   ]
  },
  {
   "cell_type": "code",
   "execution_count": 32,
   "id": "ab298592",
   "metadata": {},
   "outputs": [
    {
     "data": {
      "text/plain": [
       "array([[1., 0.],\n",
       "       [0., 1.]])"
      ]
     },
     "execution_count": 32,
     "metadata": {},
     "output_type": "execute_result"
    }
   ],
   "source": [
    "np.eye(2)"
   ]
  },
  {
   "cell_type": "code",
   "execution_count": 34,
   "id": "550b9767",
   "metadata": {},
   "outputs": [
    {
     "data": {
      "text/plain": [
       "array([0.91039641, 0.19033017, 0.26687597, 0.77056931, 0.01339785,\n",
       "       0.4607482 , 0.41266615, 0.09738559, 0.67799795, 0.91723253])"
      ]
     },
     "execution_count": 34,
     "metadata": {},
     "output_type": "execute_result"
    }
   ],
   "source": [
    "np.random.rand(10)"
   ]
  },
  {
   "cell_type": "code",
   "execution_count": 35,
   "id": "ce6d1bce",
   "metadata": {},
   "outputs": [
    {
     "data": {
      "text/plain": [
       "array([-0.38237435, -1.26364445,  0.52786389,  0.32190543, -0.625358  ,\n",
       "        0.51278692,  0.34740247, -1.1921958 ,  0.79858922, -1.03172506])"
      ]
     },
     "execution_count": 35,
     "metadata": {},
     "output_type": "execute_result"
    }
   ],
   "source": [
    "np.random.randn(10)"
   ]
  },
  {
   "cell_type": "code",
   "execution_count": 38,
   "id": "90a6dad4",
   "metadata": {},
   "outputs": [
    {
     "data": {
      "text/plain": [
       "array([1, 3, 9, 5, 2])"
      ]
     },
     "execution_count": 38,
     "metadata": {},
     "output_type": "execute_result"
    }
   ],
   "source": [
    "np.random.randint(1,10,5)"
   ]
  },
  {
   "cell_type": "code",
   "execution_count": 43,
   "id": "2e23405d",
   "metadata": {},
   "outputs": [
    {
     "data": {
      "text/plain": [
       "array([[0.6821844 , 0.28949879, 0.60437267, 0.60523043, 0.07191918,\n",
       "        0.83173403],\n",
       "       [0.95764107, 0.67901245, 0.04653067, 0.55728214, 0.81984201,\n",
       "        0.90776195],\n",
       "       [0.09607324, 0.09492095, 0.8322473 , 0.06664428, 0.87673841,\n",
       "        0.4583611 ],\n",
       "       [0.91876862, 0.9411626 , 0.10539556, 0.47574187, 0.70405272,\n",
       "        0.76756784]])"
      ]
     },
     "execution_count": 43,
     "metadata": {},
     "output_type": "execute_result"
    }
   ],
   "source": [
    "np.random.rand(4,6)"
   ]
  },
  {
   "cell_type": "code",
   "execution_count": 44,
   "id": "3cbeaad7",
   "metadata": {},
   "outputs": [
    {
     "data": {
      "text/plain": [
       "array([[-0.71365533,  0.00358957,  0.36984676, -0.90816656],\n",
       "       [-0.96852693,  0.09777854,  0.35612029,  0.76902054],\n",
       "       [ 0.38960121,  0.95216215, -0.47167902,  1.78120211],\n",
       "       [ 0.93519262,  0.0145435 , -0.35249234,  0.85845335]])"
      ]
     },
     "execution_count": 44,
     "metadata": {},
     "output_type": "execute_result"
    }
   ],
   "source": [
    "np.random.randn(4,4)"
   ]
  },
  {
   "cell_type": "code",
   "execution_count": 46,
   "id": "1e236816",
   "metadata": {},
   "outputs": [
    {
     "data": {
      "text/plain": [
       "array([[38, 32, 43],\n",
       "       [ 5,  5, 26]])"
      ]
     },
     "execution_count": 46,
     "metadata": {},
     "output_type": "execute_result"
    }
   ],
   "source": [
    "np.random.randint(1,50,6).reshape(2,3)"
   ]
  },
  {
   "cell_type": "code",
   "execution_count": 48,
   "id": "c4b3dda9",
   "metadata": {},
   "outputs": [
    {
     "data": {
      "text/plain": [
       "array([ 0,  1,  2,  3,  4,  5,  6,  7,  8,  9, 10, 11, 12, 13, 14, 15, 16,\n",
       "       17, 18, 19, 20, 21, 22, 23, 24, 25, 26, 27, 28, 29, 30, 31, 32, 33,\n",
       "       34, 35, 36, 37, 38, 39, 40, 41, 42, 43, 44, 45, 46, 47, 48, 49, 50,\n",
       "       51, 52, 53, 54, 55, 56, 57, 58, 59, 60, 61, 62, 63, 64, 65, 66, 67,\n",
       "       68, 69, 70, 71, 72, 73, 74, 75, 76, 77, 78, 79, 80, 81, 82, 83, 84,\n",
       "       85, 86, 87, 88, 89, 90, 91, 92, 93, 94, 95, 96, 97, 98, 99])"
      ]
     },
     "execution_count": 48,
     "metadata": {},
     "output_type": "execute_result"
    }
   ],
   "source": [
    "arr1=np.arange(0,100)\n",
    "arr1"
   ]
  },
  {
   "cell_type": "code",
   "execution_count": 50,
   "id": "8a8bc3bb",
   "metadata": {},
   "outputs": [
    {
     "data": {
      "text/plain": [
       "array([[ 0,  1,  2,  3,  4,  5,  6,  7,  8,  9, 10, 11, 12, 13, 14, 15,\n",
       "        16, 17, 18, 19, 20, 21, 22, 23, 24],\n",
       "       [25, 26, 27, 28, 29, 30, 31, 32, 33, 34, 35, 36, 37, 38, 39, 40,\n",
       "        41, 42, 43, 44, 45, 46, 47, 48, 49],\n",
       "       [50, 51, 52, 53, 54, 55, 56, 57, 58, 59, 60, 61, 62, 63, 64, 65,\n",
       "        66, 67, 68, 69, 70, 71, 72, 73, 74],\n",
       "       [75, 76, 77, 78, 79, 80, 81, 82, 83, 84, 85, 86, 87, 88, 89, 90,\n",
       "        91, 92, 93, 94, 95, 96, 97, 98, 99]])"
      ]
     },
     "execution_count": 50,
     "metadata": {},
     "output_type": "execute_result"
    }
   ],
   "source": [
    "arr1.reshape(4,25)"
   ]
  },
  {
   "cell_type": "code",
   "execution_count": 53,
   "id": "6980b44b",
   "metadata": {},
   "outputs": [
    {
     "data": {
      "text/plain": [
       "array([[0.01619361, 0.10461195, 0.75785615, 0.0372975 , 0.51309844,\n",
       "        0.07727343, 0.82488392, 0.185554  , 0.27102022, 0.46350069,\n",
       "        0.43830995, 0.79468163, 0.09086539, 0.89088714, 0.71220602,\n",
       "        0.84704965, 0.0916803 , 0.27783523, 0.82011041, 0.30900765,\n",
       "        0.85840699, 0.12373457, 0.13140744, 0.42299515, 0.28340613,\n",
       "        0.1231012 , 0.24334042, 0.76719817, 0.12895276, 0.67386855,\n",
       "        0.23017391, 0.80733094, 0.25205235, 0.52064093, 0.98391899,\n",
       "        0.95608381, 0.44422261, 0.05545602, 0.72115305, 0.07055156,\n",
       "        0.27624887, 0.6452395 , 0.44543713, 0.85436554, 0.09819031,\n",
       "        0.55610632, 0.115566  , 0.08795575, 0.3464317 , 0.20869061,\n",
       "        0.06610986, 0.30653072, 0.83003232, 0.10588917, 0.08613698,\n",
       "        0.92123747, 0.69844852, 0.32073435, 0.56580232, 0.75470227,\n",
       "        0.06514583, 0.86957227, 0.60925037, 0.65556168, 0.89734912,\n",
       "        0.18953038, 0.1414099 , 0.78674252, 0.52587155, 0.17132046,\n",
       "        0.76994108, 0.31199294, 0.18180097, 0.81607928, 0.54280935,\n",
       "        0.49042631, 0.69201085, 0.12759062, 0.28775348, 0.92100856,\n",
       "        0.86250623, 0.43858981, 0.61037811, 0.14601566, 0.62571803,\n",
       "        0.54320234, 0.88048611, 0.115493  , 0.05556973, 0.08468476,\n",
       "        0.2633366 , 0.03758192, 0.90296577, 0.23677212, 0.51213133,\n",
       "        0.20061359, 0.1806377 , 0.59941623, 0.51209701, 0.9288896 ]])"
      ]
     },
     "execution_count": 53,
     "metadata": {},
     "output_type": "execute_result"
    }
   ],
   "source": [
    "np.random.rand(1,100)"
   ]
  },
  {
   "cell_type": "code",
   "execution_count": 54,
   "id": "761fdba5",
   "metadata": {},
   "outputs": [
    {
     "data": {
      "text/plain": [
       "<function ndarray.max>"
      ]
     },
     "execution_count": 54,
     "metadata": {},
     "output_type": "execute_result"
    }
   ],
   "source": [
    "np.random.rand(1,100).max"
   ]
  },
  {
   "cell_type": "code",
   "execution_count": 56,
   "id": "6e0304ae",
   "metadata": {},
   "outputs": [
    {
     "data": {
      "text/plain": [
       "0.9966414992817066"
      ]
     },
     "execution_count": 56,
     "metadata": {},
     "output_type": "execute_result"
    }
   ],
   "source": [
    "np.random.rand(1,100).max()"
   ]
  },
  {
   "cell_type": "code",
   "execution_count": 57,
   "id": "774a5959",
   "metadata": {},
   "outputs": [
    {
     "data": {
      "text/plain": [
       "0.03142686299887987"
      ]
     },
     "execution_count": 57,
     "metadata": {},
     "output_type": "execute_result"
    }
   ],
   "source": [
    "np.random.rand(1,100).min()"
   ]
  },
  {
   "cell_type": "code",
   "execution_count": 58,
   "id": "275e8e5b",
   "metadata": {},
   "outputs": [
    {
     "data": {
      "text/plain": [
       "63"
      ]
     },
     "execution_count": 58,
     "metadata": {},
     "output_type": "execute_result"
    }
   ],
   "source": [
    "np.random.rand(1,100).argmax()"
   ]
  },
  {
   "cell_type": "code",
   "execution_count": 59,
   "id": "6badca9d",
   "metadata": {},
   "outputs": [
    {
     "data": {
      "text/plain": [
       "8"
      ]
     },
     "execution_count": 59,
     "metadata": {},
     "output_type": "execute_result"
    }
   ],
   "source": [
    "np.random.rand(1,100).argmin()"
   ]
  },
  {
   "cell_type": "code",
   "execution_count": 61,
   "id": "62ff50e0",
   "metadata": {},
   "outputs": [
    {
     "data": {
      "text/plain": [
       "(1, 100)"
      ]
     },
     "execution_count": 61,
     "metadata": {},
     "output_type": "execute_result"
    }
   ],
   "source": [
    "np.random.rand(1,100).shape"
   ]
  },
  {
   "cell_type": "code",
   "execution_count": 63,
   "id": "805db744",
   "metadata": {},
   "outputs": [
    {
     "data": {
      "text/plain": [
       "dtype('float64')"
      ]
     },
     "execution_count": 63,
     "metadata": {},
     "output_type": "execute_result"
    }
   ],
   "source": [
    "np.random.rand(1,100).dtype"
   ]
  },
  {
   "cell_type": "code",
   "execution_count": 68,
   "id": "c98773ed",
   "metadata": {},
   "outputs": [
    {
     "data": {
      "text/plain": [
       "array([[ 0.85547939,  0.3602633 , -0.54725531,  0.23372079,  1.72232872],\n",
       "       [-1.92604029, -0.93658334,  1.69822594, -1.93030396,  0.64165056],\n",
       "       [ 0.21676514,  0.46723339, -1.21758479,  0.76937228, -0.0375325 ],\n",
       "       [-1.97568169,  0.32962883, -0.57627066,  0.07801504, -0.59468112]])"
      ]
     },
     "execution_count": 68,
     "metadata": {},
     "output_type": "execute_result"
    }
   ],
   "source": [
    "arr1=np.random.randn(4,5)\n",
    "arr1"
   ]
  },
  {
   "cell_type": "code",
   "execution_count": 69,
   "id": "7b5f8768",
   "metadata": {},
   "outputs": [
    {
     "data": {
      "text/plain": [
       "array([[ 0.69571513,  0.67062143,  0.14990568, -0.27585139,  0.14712318],\n",
       "       [-0.51267334,  0.12892304, -2.28614248, -0.09749976, -1.87385456],\n",
       "       [ 1.22938826, -0.7398667 ,  0.48772994,  0.84824871, -0.68398624],\n",
       "       [ 1.78917463,  0.8892033 ,  0.88751302, -1.14535188, -0.60327599]])"
      ]
     },
     "execution_count": 69,
     "metadata": {},
     "output_type": "execute_result"
    }
   ],
   "source": [
    "arr2=np.random.randn(4,5)\n",
    "arr2"
   ]
  },
  {
   "cell_type": "code",
   "execution_count": 70,
   "id": "cca01c92",
   "metadata": {},
   "outputs": [
    {
     "data": {
      "text/plain": [
       "array([[ 1.55119452,  1.03088473, -0.39734962, -0.0421306 ,  1.86945189],\n",
       "       [-2.43871362, -0.80766031, -0.58791654, -2.02780372, -1.23220401],\n",
       "       [ 1.4461534 , -0.2726333 , -0.72985485,  1.617621  , -0.72151874],\n",
       "       [-0.18650706,  1.21883214,  0.31124237, -1.06733685, -1.19795711]])"
      ]
     },
     "execution_count": 70,
     "metadata": {},
     "output_type": "execute_result"
    }
   ],
   "source": [
    "arr1+arr2"
   ]
  },
  {
   "cell_type": "code",
   "execution_count": 71,
   "id": "311fdf5a",
   "metadata": {},
   "outputs": [
    {
     "data": {
      "text/plain": [
       "array([[ 0.15976427, -0.31035813, -0.69716099,  0.50957218,  1.57520554],\n",
       "       [-1.41336695, -1.06550638,  3.98436842, -1.8328042 ,  2.51550512],\n",
       "       [-1.01262312,  1.20710009, -1.70531474, -0.07887643,  0.64645374],\n",
       "       [-3.76485632, -0.55957447, -1.46378368,  1.22336692,  0.00859487]])"
      ]
     },
     "execution_count": 71,
     "metadata": {},
     "output_type": "execute_result"
    }
   ],
   "source": [
    "arr1-arr2"
   ]
  },
  {
   "cell_type": "code",
   "execution_count": 72,
   "id": "6860696b",
   "metadata": {},
   "outputs": [
    {
     "data": {
      "text/plain": [
       "array([[ 1.22964036,  0.53720815, -3.65066414, -0.84727067, 11.70671237],\n",
       "       [ 3.75685674, -7.26467017, -0.74283469, 19.7980389 , -0.34242282],\n",
       "       [ 0.17631952, -0.63151024, -2.49643231,  0.90701262,  0.05487318],\n",
       "       [-1.10424196,  0.37070131, -0.64930952, -0.06811447,  0.98575301]])"
      ]
     },
     "execution_count": 72,
     "metadata": {},
     "output_type": "execute_result"
    }
   ],
   "source": [
    "arr1/arr2"
   ]
  },
  {
   "cell_type": "code",
   "execution_count": 73,
   "id": "1cd73af2",
   "metadata": {},
   "outputs": [
    {
     "data": {
      "text/plain": [
       "array([[ 1.,  0., -4., -1., 11.],\n",
       "       [ 3., -8., -1., 19., -1.],\n",
       "       [ 0., -1., -3.,  0.,  0.],\n",
       "       [-2.,  0., -1., -1.,  0.]])"
      ]
     },
     "execution_count": 73,
     "metadata": {},
     "output_type": "execute_result"
    }
   ],
   "source": [
    "arr1//arr2"
   ]
  },
  {
   "cell_type": "code",
   "execution_count": 74,
   "id": "56666ee9",
   "metadata": {},
   "outputs": [
    {
     "data": {
      "text/plain": [
       "array([[ 0.59516995,  0.24160029, -0.08203668, -0.06447221,  0.25339447],\n",
       "       [ 0.9874295 , -0.12074717, -3.88238645,  0.18820416, -1.20235982],\n",
       "       [ 0.26648852, -0.34569043, -0.59385256,  0.65261905,  0.02567171],\n",
       "       [-3.53483956,  0.29310705, -0.51144771, -0.08935467,  0.35875684]])"
      ]
     },
     "execution_count": 74,
     "metadata": {},
     "output_type": "execute_result"
    }
   ],
   "source": [
    "arr1*arr2"
   ]
  },
  {
   "cell_type": "code",
   "execution_count": 76,
   "id": "5162a049",
   "metadata": {},
   "outputs": [
    {
     "data": {
      "text/plain": [
       "array([[7.31844994e-01, 1.29789644e-01, 2.99488372e-01, 5.46254088e-02,\n",
       "        2.96641620e+00],\n",
       "       [3.70963118e+00, 8.77188359e-01, 2.88397133e+00, 3.72607338e+00,\n",
       "        4.11715436e-01],\n",
       "       [4.69871273e-02, 2.18307042e-01, 1.48251273e+00, 5.91933712e-01,\n",
       "        1.40868870e-03],\n",
       "       [3.90331816e+00, 1.08655167e-01, 3.32087871e-01, 6.08634584e-03,\n",
       "        3.53645636e-01]])"
      ]
     },
     "execution_count": 76,
     "metadata": {},
     "output_type": "execute_result"
    }
   ],
   "source": [
    "arr1**2"
   ]
  },
  {
   "cell_type": "code",
   "execution_count": 79,
   "id": "0e5eff08",
   "metadata": {},
   "outputs": [
    {
     "data": {
      "text/plain": [
       "array([[  2.33787045,   5.55149529,  -3.65460137,   8.55721897,\n",
       "          1.16121852],\n",
       "       [ -1.03839988,  -2.13542128,   1.1776996 ,  -1.03610625,\n",
       "          3.11696138],\n",
       "       [  9.22657568,   4.28051598,  -1.64259607,   2.59952177,\n",
       "        -53.28714851],\n",
       "       [ -1.01230882,   6.06743041,  -3.47059142,  25.63608379,\n",
       "         -3.36314695]])"
      ]
     },
     "execution_count": 79,
     "metadata": {},
     "output_type": "execute_result"
    }
   ],
   "source": [
    "1/arr1*2"
   ]
  },
  {
   "cell_type": "code",
   "execution_count": 82,
   "id": "c28fd368",
   "metadata": {},
   "outputs": [
    {
     "name": "stderr",
     "output_type": "stream",
     "text": [
      "C:\\Users\\madhu\\AppData\\Local\\Temp\\ipykernel_18660\\3299852782.py:1: RuntimeWarning: invalid value encountered in sqrt\n",
      "  np.sqrt(arr1)\n"
     ]
    },
    {
     "data": {
      "text/plain": [
       "array([[0.92492129, 0.60021937,        nan, 0.48344678, 1.31237522],\n",
       "       [       nan,        nan, 1.30315998,        nan, 0.80103093],\n",
       "       [0.46558044, 0.68354473,        nan, 0.87713869,        nan],\n",
       "       [       nan, 0.57413311,        nan, 0.27931172,        nan]])"
      ]
     },
     "execution_count": 82,
     "metadata": {},
     "output_type": "execute_result"
    }
   ],
   "source": [
    "np.sqrt(arr1)"
   ]
  },
  {
   "cell_type": "code",
   "execution_count": 83,
   "id": "0099248f",
   "metadata": {},
   "outputs": [
    {
     "data": {
      "text/plain": [
       "array([[2.35250189, 1.43370686, 0.57853554, 1.26329172, 5.59754839],\n",
       "       [0.14572408, 0.39196476, 5.46424487, 0.14510409, 1.89961371],\n",
       "       [1.24205236, 1.59557375, 0.29594407, 2.15841096, 0.96316311],\n",
       "       [0.13866675, 1.39045194, 0.56199032, 1.08113891, 0.55173848]])"
      ]
     },
     "execution_count": 83,
     "metadata": {},
     "output_type": "execute_result"
    }
   ],
   "source": [
    "np.exp(arr1)"
   ]
  },
  {
   "cell_type": "code",
   "execution_count": 84,
   "id": "e1a4dd79",
   "metadata": {},
   "outputs": [
    {
     "data": {
      "text/plain": [
       "array([[ 0.64093453,  0.62147296,  0.14934488, -0.27236624,  0.146593  ],\n",
       "       [-0.49050864,  0.12856619, -0.75486625, -0.09734535, -0.95442825],\n",
       "       [ 0.94228416, -0.67418946,  0.46862173,  0.75012343, -0.63188761],\n",
       "       [ 0.97625007,  0.77657005,  0.77550401, -0.91085539, -0.56734323]])"
      ]
     },
     "execution_count": 84,
     "metadata": {},
     "output_type": "execute_result"
    }
   ],
   "source": [
    "np.sin(arr2)"
   ]
  },
  {
   "cell_type": "code",
   "execution_count": 85,
   "id": "dc40f60d",
   "metadata": {},
   "outputs": [
    {
     "data": {
      "text/plain": [
       "array([[ 0.76759555,  0.78343561,  0.98878517,  0.96219366,  0.98919689],\n",
       "       [ 0.87143633,  0.99170093, -0.65587876,  0.99525066, -0.29844047],\n",
       "       [ 0.33481422,  0.73855844,  0.88339893,  0.66129784,  0.77506003],\n",
       "       [-0.21664673,  0.63003092,  0.63134264,  0.41272565,  0.82348143]])"
      ]
     },
     "execution_count": 85,
     "metadata": {},
     "output_type": "execute_result"
    }
   ],
   "source": [
    "np.cos(arr2)"
   ]
  },
  {
   "cell_type": "code",
   "execution_count": 86,
   "id": "0622ffa2",
   "metadata": {},
   "outputs": [
    {
     "data": {
      "text/plain": [
       "array([[ 1.1509914 ,  0.37670348, -0.60933513,  0.23807158, -6.54866096],\n",
       "       [ 2.69554391, -1.35945797, -7.8049471 ,  2.6607008 ,  0.74711252],\n",
       "       [ 0.22022525,  0.5044903 , -2.71243643,  0.96845114, -0.03755014],\n",
       "       [ 2.3333747 ,  0.34211021, -0.64985127,  0.0781737 , -0.6763567 ]])"
      ]
     },
     "execution_count": 86,
     "metadata": {},
     "output_type": "execute_result"
    }
   ],
   "source": [
    "np.tan(arr1)"
   ]
  },
  {
   "cell_type": "code",
   "execution_count": 89,
   "id": "4762f127",
   "metadata": {},
   "outputs": [
    {
     "name": "stderr",
     "output_type": "stream",
     "text": [
      "C:\\Users\\madhu\\AppData\\Local\\Temp\\ipykernel_18660\\2430268246.py:1: RuntimeWarning: invalid value encountered in log\n",
      "  np.log(arr2)\n"
     ]
    },
    {
     "data": {
      "text/plain": [
       "array([[-0.36281501, -0.39955049, -1.89774895,         nan, -1.91648511],\n",
       "       [        nan, -2.04853966,         nan,         nan,         nan],\n",
       "       [ 0.2065167 ,         nan, -0.71799342, -0.16458139,         nan],\n",
       "       [ 0.58175441, -0.11742938, -0.11933208,         nan,         nan]])"
      ]
     },
     "execution_count": 89,
     "metadata": {},
     "output_type": "execute_result"
    }
   ],
   "source": [
    "np.log(arr2)"
   ]
  },
  {
   "cell_type": "code",
   "execution_count": 91,
   "id": "2e179d01",
   "metadata": {},
   "outputs": [
    {
     "data": {
      "text/plain": [
       "array([[ 0.01626877,  0.49495401,  1.31306093,  0.62151088, -0.64638222,\n",
       "        -0.40777207,  0.82581019, -0.57706481,  1.09223681, -0.05241972],\n",
       "       [-2.16448178, -0.40005507,  0.04949651, -0.3483127 ,  2.02652191,\n",
       "        -0.48789304,  0.00728113,  0.65347816, -1.46099605,  1.4032086 ],\n",
       "       [-1.27163233,  0.06257347, -1.11278957,  2.25699822,  0.12627004,\n",
       "        -0.28039099, -0.40884618, -0.51695271,  0.02121626,  0.35475414],\n",
       "       [ 0.22052753, -0.21280054, -0.25912809, -0.89150912, -0.46832846,\n",
       "        -0.55104281, -0.17854901, -0.30145824,  2.23520432,  1.35053058],\n",
       "       [-1.94979639,  0.98580589, -0.76819487,  1.50752802,  0.0146464 ,\n",
       "        -0.00923033,  0.97133405,  0.37477768, -0.5405747 ,  0.03012055],\n",
       "       [ 0.15609072, -0.3406117 ,  2.02855635,  0.75928175, -0.63664345,\n",
       "        -1.06719919, -0.50395711, -1.36774238,  0.41667832, -0.88602921],\n",
       "       [ 0.18964272, -0.11298404,  0.92576928, -0.31034409, -0.47836201,\n",
       "         1.57488657, -0.18935012, -0.27949917, -0.84475285, -0.72932124],\n",
       "       [-0.46163622, -0.03842665,  0.26283655,  1.16438863, -0.46701386,\n",
       "        -1.6197009 , -0.9429291 , -0.42483526, -0.57484171, -1.21388522],\n",
       "       [-0.57976987,  1.19376784, -0.61211944, -1.53931831,  0.1455167 ,\n",
       "        -1.54851901, -1.2711914 , -0.17192306, -0.19510005,  0.04873861],\n",
       "       [-0.09587555,  0.1230447 , -1.3921678 ,  0.28459781, -1.50583047,\n",
       "         0.06548951,  0.04081654,  0.13248597,  1.10095437, -1.62262703]])"
      ]
     },
     "execution_count": 91,
     "metadata": {},
     "output_type": "execute_result"
    }
   ],
   "source": [
    "arr3=np.random.randn(10,10)\n",
    "arr3"
   ]
  },
  {
   "cell_type": "code",
   "execution_count": 92,
   "id": "dfd65977",
   "metadata": {},
   "outputs": [
    {
     "data": {
      "text/plain": [
       "(10, 10)"
      ]
     },
     "execution_count": 92,
     "metadata": {},
     "output_type": "execute_result"
    }
   ],
   "source": [
    "arr3.shape"
   ]
  },
  {
   "cell_type": "code",
   "execution_count": 95,
   "id": "15e1b341",
   "metadata": {},
   "outputs": [
    {
     "data": {
      "text/plain": [
       "array([-1.94979639,  0.98580589, -0.76819487,  1.50752802,  0.0146464 ,\n",
       "       -0.00923033,  0.97133405,  0.37477768, -0.5405747 ,  0.03012055])"
      ]
     },
     "execution_count": 95,
     "metadata": {},
     "output_type": "execute_result"
    }
   ],
   "source": [
    "arr3[4]"
   ]
  },
  {
   "cell_type": "code",
   "execution_count": 96,
   "id": "b884e773",
   "metadata": {},
   "outputs": [
    {
     "data": {
      "text/plain": [
       "-1.9497963920556503"
      ]
     },
     "execution_count": 96,
     "metadata": {},
     "output_type": "execute_result"
    }
   ],
   "source": [
    "arr3[4,0]"
   ]
  },
  {
   "cell_type": "code",
   "execution_count": 97,
   "id": "bcb7d1f9",
   "metadata": {},
   "outputs": [
    {
     "data": {
      "text/plain": [
       "array([[ 0.49495401,  1.31306093],\n",
       "       [-0.40005507,  0.04949651],\n",
       "       [ 0.06257347, -1.11278957]])"
      ]
     },
     "execution_count": 97,
     "metadata": {},
     "output_type": "execute_result"
    }
   ],
   "source": [
    "arr3[0:3,1:3]"
   ]
  },
  {
   "cell_type": "code",
   "execution_count": 103,
   "id": "5674aa25",
   "metadata": {},
   "outputs": [
    {
     "data": {
      "text/plain": [
       "array([[ 0,  1,  2,  3,  4],\n",
       "       [ 5,  6,  7,  8,  9],\n",
       "       [10, 11, 12, 13, 14],\n",
       "       [15, 16, 17, 18, 19],\n",
       "       [20, 21, 22, 23, 24],\n",
       "       [25, 26, 27, 28, 29]])"
      ]
     },
     "execution_count": 103,
     "metadata": {},
     "output_type": "execute_result"
    }
   ],
   "source": [
    "arr4=np.arange(0,30).reshape(6,5)\n",
    "arr4"
   ]
  },
  {
   "cell_type": "code",
   "execution_count": 105,
   "id": "33bb00ff",
   "metadata": {},
   "outputs": [
    {
     "data": {
      "text/plain": [
       "array([[17, 18],\n",
       "       [22, 23]])"
      ]
     },
     "execution_count": 105,
     "metadata": {},
     "output_type": "execute_result"
    }
   ],
   "source": [
    "arr4[3:5,2:4]"
   ]
  },
  {
   "cell_type": "code",
   "execution_count": 107,
   "id": "25b2d349",
   "metadata": {},
   "outputs": [
    {
     "data": {
      "text/plain": [
       "array([[ 4,  3,  2,  1,  0],\n",
       "       [ 9,  8,  7,  6,  5],\n",
       "       [14, 13, 12, 11, 10],\n",
       "       [19, 18, 17, 16, 15],\n",
       "       [24, 23, 22, 21, 20],\n",
       "       [29, 28, 27, 26, 25]])"
      ]
     },
     "execution_count": 107,
     "metadata": {},
     "output_type": "execute_result"
    }
   ],
   "source": [
    "arr4[0:,::-1]"
   ]
  },
  {
   "cell_type": "code",
   "execution_count": 113,
   "id": "298ad85b",
   "metadata": {},
   "outputs": [
    {
     "data": {
      "text/plain": [
       "list"
      ]
     },
     "execution_count": 113,
     "metadata": {},
     "output_type": "execute_result"
    }
   ],
   "source": [
    "my_matrix = [[1,2,3],[4,5,6],[7,8,9]]\n",
    "type(my_matrix)"
   ]
  },
  {
   "cell_type": "code",
   "execution_count": 121,
   "id": "55d152d2",
   "metadata": {},
   "outputs": [
    {
     "data": {
      "text/plain": [
       "array([[1, 2, 3],\n",
       "       [4, 5, 6]])"
      ]
     },
     "execution_count": 121,
     "metadata": {},
     "output_type": "execute_result"
    }
   ],
   "source": [
    "arr5=np.array([[1,2,3],[4,5,6]])\n",
    "arr5"
   ]
  },
  {
   "cell_type": "code",
   "execution_count": 122,
   "id": "0d922fa0",
   "metadata": {},
   "outputs": [],
   "source": [
    "arr6=arr5.copy()"
   ]
  },
  {
   "cell_type": "code",
   "execution_count": 123,
   "id": "a12887a6",
   "metadata": {},
   "outputs": [
    {
     "data": {
      "text/plain": [
       "array([[1, 2, 3],\n",
       "       [4, 5, 6]])"
      ]
     },
     "execution_count": 123,
     "metadata": {},
     "output_type": "execute_result"
    }
   ],
   "source": [
    "arr6"
   ]
  },
  {
   "cell_type": "code",
   "execution_count": 126,
   "id": "68bbea23",
   "metadata": {},
   "outputs": [],
   "source": [
    "arr5[0,0]=100"
   ]
  },
  {
   "cell_type": "code",
   "execution_count": 127,
   "id": "7c9e835a",
   "metadata": {},
   "outputs": [
    {
     "data": {
      "text/plain": [
       "array([[100,   2,   3],\n",
       "       [  4,   5,   6]])"
      ]
     },
     "execution_count": 127,
     "metadata": {},
     "output_type": "execute_result"
    }
   ],
   "source": [
    "arr5"
   ]
  },
  {
   "cell_type": "code",
   "execution_count": 129,
   "id": "9cf9e7ac",
   "metadata": {},
   "outputs": [
    {
     "data": {
      "text/plain": [
       "array([[ 0.85547939,  0.3602633 , -0.54725531,  0.23372079,  1.72232872],\n",
       "       [-1.92604029, -0.93658334,  1.69822594, -1.93030396,  0.64165056],\n",
       "       [ 0.21676514,  0.46723339, -1.21758479,  0.76937228, -0.0375325 ],\n",
       "       [-1.97568169,  0.32962883, -0.57627066,  0.07801504, -0.59468112]])"
      ]
     },
     "execution_count": 129,
     "metadata": {},
     "output_type": "execute_result"
    }
   ],
   "source": [
    "arr1"
   ]
  },
  {
   "cell_type": "code",
   "execution_count": 130,
   "id": "6767b055",
   "metadata": {},
   "outputs": [
    {
     "data": {
      "text/plain": [
       "array([[ True,  True, False,  True,  True],\n",
       "       [False, False,  True, False,  True],\n",
       "       [ True,  True, False,  True, False],\n",
       "       [False,  True, False, False, False]])"
      ]
     },
     "execution_count": 130,
     "metadata": {},
     "output_type": "execute_result"
    }
   ],
   "source": [
    "arr1>0.2"
   ]
  },
  {
   "cell_type": "code",
   "execution_count": 131,
   "id": "4e191eef",
   "metadata": {},
   "outputs": [
    {
     "data": {
      "text/plain": [
       "array([0.85547939, 0.3602633 , 1.72232872, 1.69822594, 0.64165056,\n",
       "       0.46723339, 0.76937228, 0.32962883])"
      ]
     },
     "execution_count": 131,
     "metadata": {},
     "output_type": "execute_result"
    }
   ],
   "source": [
    "arr1[arr1>0.3]"
   ]
  },
  {
   "cell_type": "code",
   "execution_count": 133,
   "id": "89259574",
   "metadata": {},
   "outputs": [
    {
     "data": {
      "text/plain": [
       "array([ 0.3602633 , -0.54725531,  0.23372079, -1.92604029, -0.93658334,\n",
       "       -1.93030396,  0.21676514,  0.46723339, -1.21758479, -0.0375325 ,\n",
       "       -1.97568169,  0.32962883, -0.57627066,  0.07801504, -0.59468112])"
      ]
     },
     "execution_count": 133,
     "metadata": {},
     "output_type": "execute_result"
    }
   ],
   "source": [
    "arr1[arr1<0.6]"
   ]
  },
  {
   "cell_type": "code",
   "execution_count": 135,
   "id": "be76dc1d",
   "metadata": {},
   "outputs": [
    {
     "data": {
      "text/plain": [
       "array([], dtype=float64)"
      ]
     },
     "execution_count": 135,
     "metadata": {},
     "output_type": "execute_result"
    }
   ],
   "source": [
    "arr2[arr2>2]"
   ]
  },
  {
   "cell_type": "code",
   "execution_count": 136,
   "id": "d30e4c59",
   "metadata": {},
   "outputs": [
    {
     "data": {
      "text/plain": [
       "array([[False, False, False, False, False],\n",
       "       [False, False, False, False, False],\n",
       "       [False, False, False, False, False],\n",
       "       [False, False, False, False, False]])"
      ]
     },
     "execution_count": 136,
     "metadata": {},
     "output_type": "execute_result"
    }
   ],
   "source": [
    "arr2>2"
   ]
  },
  {
   "cell_type": "code",
   "execution_count": 138,
   "id": "812a7c67",
   "metadata": {},
   "outputs": [
    {
     "data": {
      "text/plain": [
       "array([0., 0., 0., 0., 0., 0., 0., 0., 0., 0.])"
      ]
     },
     "execution_count": 138,
     "metadata": {},
     "output_type": "execute_result"
    }
   ],
   "source": [
    "np.zeros(10)"
   ]
  },
  {
   "cell_type": "code",
   "execution_count": 140,
   "id": "c6f91be9",
   "metadata": {},
   "outputs": [
    {
     "data": {
      "text/plain": [
       "array([5., 5., 5., 5., 5.])"
      ]
     },
     "execution_count": 140,
     "metadata": {},
     "output_type": "execute_result"
    }
   ],
   "source": [
    "np.ones(5)*5"
   ]
  },
  {
   "cell_type": "code",
   "execution_count": 142,
   "id": "9f7b1a5e",
   "metadata": {},
   "outputs": [
    {
     "data": {
      "text/plain": [
       "array([10, 11, 12, 13, 14, 15, 16, 17, 18, 19, 20, 21, 22, 23, 24, 25, 26,\n",
       "       27, 28, 29, 30, 31, 32, 33, 34, 35, 36, 37, 38, 39, 40, 41, 42, 43,\n",
       "       44, 45, 46, 47, 48, 49, 50])"
      ]
     },
     "execution_count": 142,
     "metadata": {},
     "output_type": "execute_result"
    }
   ],
   "source": [
    "np.arange(10,51)"
   ]
  },
  {
   "cell_type": "code",
   "execution_count": 144,
   "id": "6e033a73",
   "metadata": {},
   "outputs": [
    {
     "data": {
      "text/plain": [
       "array([0, 1, 2, 3, 4, 5, 6, 7, 8])"
      ]
     },
     "execution_count": 144,
     "metadata": {},
     "output_type": "execute_result"
    }
   ],
   "source": [
    "np.arange(0,9)"
   ]
  },
  {
   "cell_type": "code",
   "execution_count": 146,
   "id": "6a545bdc",
   "metadata": {},
   "outputs": [
    {
     "data": {
      "text/plain": [
       "array([[1, 2, 3],\n",
       "       [4, 5, 6],\n",
       "       [7, 8, 9]])"
      ]
     },
     "execution_count": 146,
     "metadata": {},
     "output_type": "execute_result"
    }
   ],
   "source": [
    "np.array([[1,2,3],[4,5,6],[7,8,9]])"
   ]
  },
  {
   "cell_type": "code",
   "execution_count": 147,
   "id": "aae27a9c",
   "metadata": {},
   "outputs": [
    {
     "data": {
      "text/plain": [
       "array([[1., 0., 0.],\n",
       "       [0., 1., 0.],\n",
       "       [0., 0., 1.]])"
      ]
     },
     "execution_count": 147,
     "metadata": {},
     "output_type": "execute_result"
    }
   ],
   "source": [
    "np.eye(3)"
   ]
  },
  {
   "cell_type": "code",
   "execution_count": 158,
   "id": "2ebbbc33",
   "metadata": {},
   "outputs": [
    {
     "data": {
      "text/plain": [
       "array([0.60485454])"
      ]
     },
     "execution_count": 158,
     "metadata": {},
     "output_type": "execute_result"
    }
   ],
   "source": [
    "np.random.rand(1)"
   ]
  },
  {
   "cell_type": "code",
   "execution_count": 161,
   "id": "7b45ca8f",
   "metadata": {},
   "outputs": [
    {
     "data": {
      "text/plain": [
       "array([-1.0796201 , -0.54512346, -1.03415842, -0.06281993, -0.76575564,\n",
       "        1.42743395, -0.45677731,  0.54621904, -0.38693156, -0.59618624,\n",
       "       -0.61043053, -1.14449139,  0.4871458 ,  0.82299685, -0.01907845,\n",
       "       -0.66069965, -0.59842333, -0.07423324,  1.33596356, -1.54381051,\n",
       "       -0.09565179, -1.44003605, -0.11681843, -0.36909219, -2.00066369])"
      ]
     },
     "execution_count": 161,
     "metadata": {},
     "output_type": "execute_result"
    }
   ],
   "source": [
    "np.random.randn(25)"
   ]
  },
  {
   "cell_type": "code",
   "execution_count": 162,
   "id": "1c8089a2",
   "metadata": {},
   "outputs": [
    {
     "data": {
      "text/plain": [
       "array([[-8.89508547e-01,  8.55148425e-01, -2.73053718e-01,\n",
       "        -1.00875167e+00,  8.96261997e-01,  5.63309330e-01,\n",
       "         1.05520083e+00,  1.48016454e+00, -9.77840362e-01,\n",
       "         4.21915525e-02,  5.97988582e-01, -6.07833028e-01,\n",
       "         1.27932423e-01,  1.12244639e+00, -2.54923551e-01,\n",
       "         1.06559753e+00, -1.12762984e+00,  5.35907653e-01,\n",
       "        -1.71995336e+00,  3.21921001e-01,  5.98918545e-01,\n",
       "        -2.70629703e-01, -4.68428224e-01,  5.90202135e-01,\n",
       "         7.89030648e-01],\n",
       "       [ 1.50886670e-02,  5.92278485e-01, -8.65161936e-01,\n",
       "        -5.31657203e-01, -2.05844024e+00,  1.11061625e-01,\n",
       "        -1.35258650e+00,  1.35078371e-01,  4.20048813e-01,\n",
       "        -8.82006294e-01,  4.05250378e-01, -1.42068355e+00,\n",
       "        -2.58749024e+00,  1.09124961e-01,  7.50014192e-01,\n",
       "         2.04480909e-01, -1.44601909e+00,  5.41806269e-01,\n",
       "        -2.96619258e-02, -1.20373451e+00, -4.15926213e-01,\n",
       "        -1.45589045e+00, -4.98204843e-01,  2.72608115e-02,\n",
       "         1.03208921e+00],\n",
       "       [ 1.51547906e+00, -1.43816626e+00, -1.86931990e-01,\n",
       "        -7.39982610e-01,  4.54050870e-01,  1.11883907e-02,\n",
       "        -7.65633859e-01,  2.18806133e-01, -2.65779041e-01,\n",
       "        -3.02010109e-01,  2.00544205e-01, -3.27578923e-01,\n",
       "         1.25653767e+00, -6.11459327e-01,  1.94566596e+00,\n",
       "         2.34445192e-02, -1.16457825e+00, -1.70605831e+00,\n",
       "        -1.61051135e+00,  2.03189666e+00, -8.60929639e-01,\n",
       "        -8.21455347e-01, -1.18355373e+00,  1.55463405e-02,\n",
       "        -6.98982156e-02],\n",
       "       [ 6.07155568e-02,  1.28078216e+00, -3.85107044e-01,\n",
       "         4.83420897e-01, -3.13444767e-01,  2.60821030e+00,\n",
       "        -5.55387600e-01,  4.20008195e-01,  2.22244348e-02,\n",
       "         1.43485081e-01, -3.96621804e-01, -4.44480172e-01,\n",
       "        -7.08023115e-02,  5.33347492e-01, -1.94092522e-01,\n",
       "        -2.15432796e-01, -3.67075715e-01,  8.15290879e-02,\n",
       "         1.28193156e-01,  1.94722531e-01,  1.30742423e+00,\n",
       "        -6.39502831e-01, -2.36954893e-01,  5.99729136e-01,\n",
       "         3.77785431e-01],\n",
       "       [ 2.36065739e-01,  3.33962800e-01,  5.39973135e-01,\n",
       "        -1.18890153e+00,  1.40672740e+00, -1.13752917e+00,\n",
       "        -2.08712581e-01,  3.85719231e-02, -8.80323158e-01,\n",
       "        -6.47064812e-02,  7.26816647e-01, -2.87078067e+00,\n",
       "         3.58627631e-02,  2.09515845e+00,  3.15729785e-01,\n",
       "        -9.35093788e-01,  7.73647856e-01, -9.77097607e-01,\n",
       "         6.98603343e-01, -3.87235679e-01, -5.67097774e-01,\n",
       "        -7.42186830e-02, -3.63764938e-01, -1.25668135e+00,\n",
       "        -1.34133065e+00],\n",
       "       [ 2.83380052e-01,  1.26880514e+00,  1.30767144e+00,\n",
       "        -1.99939536e+00, -9.61833776e-01, -1.78295378e+00,\n",
       "        -9.44723790e-01,  1.33071097e+00, -7.21739275e-01,\n",
       "         7.20338886e-01, -6.02020847e-01, -1.25752843e-01,\n",
       "        -6.34963848e-01, -2.47468892e-01,  1.05690572e-01,\n",
       "        -3.67859878e-01,  5.47641147e-01,  5.26617509e-01,\n",
       "        -7.53990363e-02, -4.62077679e-01,  1.10360041e-01,\n",
       "        -5.54672935e-01, -9.78064508e-01,  1.19337194e+00,\n",
       "         1.18376908e+00],\n",
       "       [ 6.30039183e-01, -5.29583348e-01, -2.54407810e+00,\n",
       "        -1.12260044e+00,  8.88836199e-01, -5.98916158e-02,\n",
       "         9.80532827e-02, -4.06517027e-01,  4.63200795e-01,\n",
       "         6.28690651e-01, -1.71876295e+00, -1.18594232e+00,\n",
       "         9.49013204e-01, -4.64578916e-01, -4.51894275e-01,\n",
       "        -1.53532991e-01,  7.50414934e-01, -4.53535714e-01,\n",
       "        -2.81151365e-01,  5.30079508e-01,  2.04029556e-01,\n",
       "        -3.87083650e-01, -8.32194497e-01,  5.45901661e-02,\n",
       "         7.39183084e-01],\n",
       "       [ 4.47139532e-01, -6.14364337e-03,  3.53320205e-01,\n",
       "         2.99688856e-01,  1.45625890e+00, -3.05620539e-01,\n",
       "        -5.02302349e-01, -1.39137319e+00,  1.88591000e-02,\n",
       "        -9.94383654e-02, -6.62081518e-01,  7.57242785e-01,\n",
       "         7.59711309e-01, -4.90869420e-01, -4.39026845e-01,\n",
       "         1.07940851e+00,  2.20317623e+00, -1.25856662e+00,\n",
       "         1.12930102e+00,  9.53394017e-01,  1.61292846e+00,\n",
       "         4.24207137e-01, -7.78322747e-01, -1.26278855e-01,\n",
       "         7.54573090e-02],\n",
       "       [ 1.07236306e+00,  3.54001989e-01, -1.21801500e+00,\n",
       "        -3.04464601e+00, -2.61726712e+00,  1.32905773e+00,\n",
       "        -1.23033306e+00, -1.26138210e+00, -1.45515424e+00,\n",
       "         2.39791771e+00, -3.41458592e-01, -1.21869867e-01,\n",
       "        -8.93438691e-02, -2.22283187e+00,  6.46524690e-01,\n",
       "        -1.32363112e-01,  4.01987974e-01, -6.74230664e-02,\n",
       "         8.35910682e-02,  1.62696623e-01, -9.58920708e-01,\n",
       "        -2.10603256e-01, -1.39349728e-01,  3.14064435e-01,\n",
       "         1.04524540e+00],\n",
       "       [ 6.49971988e-01, -1.33404976e+00, -1.76799945e+00,\n",
       "         2.90761630e-01, -2.69627214e-01,  4.24168134e-01,\n",
       "        -3.84902698e-02,  2.67369622e-01, -4.64216585e-01,\n",
       "         1.12711374e-01,  6.12843024e-01, -7.84047222e-01,\n",
       "        -4.18029577e-01, -1.22472969e+00,  2.09771182e-01,\n",
       "         1.47338069e+00, -1.46004186e+00, -5.12189115e-01,\n",
       "         6.36825388e-01,  5.35585198e-01,  1.09357097e+00,\n",
       "        -3.25199320e-02,  5.15474495e-01, -1.34093432e+00,\n",
       "         8.81843730e-05],\n",
       "       [ 1.23310771e+00,  7.33009408e-01, -7.05668632e-01,\n",
       "         4.91718258e-01,  1.40010364e+00,  1.80786361e+00,\n",
       "        -1.09265280e+00, -9.16620393e-01, -4.03944686e-01,\n",
       "        -1.02694986e+00, -5.02053297e-01,  8.24672177e-01,\n",
       "        -1.66645647e+00, -3.30334417e-01, -2.65749003e-01,\n",
       "        -9.49200453e-01, -1.28331888e+00, -1.11228531e+00,\n",
       "         4.68953291e-01,  5.16791447e-01, -6.30927791e-01,\n",
       "        -2.47895986e-01, -6.90167075e-01,  9.18921092e-02,\n",
       "        -1.96990089e+00],\n",
       "       [-5.65198419e-01,  2.93101034e-01,  5.98138634e-01,\n",
       "        -1.43857164e+00, -3.34719263e-01,  5.00682087e-01,\n",
       "         1.45181107e+00, -9.99417531e-01, -1.70700952e-01,\n",
       "        -7.27553880e-01,  2.21786412e-01, -4.20434284e-01,\n",
       "         1.14941858e+00, -1.74512629e-01,  2.99312860e+00,\n",
       "        -5.09079670e-01, -4.08094284e-01, -9.24622713e-02,\n",
       "        -2.63187747e-01, -1.17127383e-01, -2.34877923e-01,\n",
       "        -1.32271729e+00,  9.48182192e-01, -6.99719448e-01,\n",
       "        -1.06889905e-01],\n",
       "       [ 1.37363191e+00,  8.45610536e-01, -2.07436021e+00,\n",
       "         1.31298582e+00,  1.11338699e+00, -4.78157897e-01,\n",
       "         5.88374257e-01,  6.88078989e-01,  1.26568890e+00,\n",
       "         2.04858663e+00,  1.58794170e+00, -1.15205138e+00,\n",
       "        -1.72324741e-01, -1.70209011e+00,  8.44455054e-01,\n",
       "        -9.19769199e-01,  4.78888269e-02, -2.68675001e-01,\n",
       "        -2.08412107e-01,  9.34048081e-01, -4.32527108e-01,\n",
       "         2.98142101e-01,  1.99603397e-01, -1.25557169e+00,\n",
       "        -7.42636201e-01],\n",
       "       [ 5.03575926e-01,  1.32385274e+00, -1.18248199e-01,\n",
       "        -1.86529987e+00,  1.69485804e+00,  1.29194129e+00,\n",
       "         1.44666821e-01,  8.01629740e-01, -1.67920018e+00,\n",
       "         7.00579037e-02,  5.66671893e-01, -1.06316700e+00,\n",
       "        -2.36920805e-01, -1.04569372e+00, -9.68259331e-01,\n",
       "         1.18798682e+00, -3.04753709e-01, -1.50971420e+00,\n",
       "        -8.49712239e-01,  5.45216376e-01, -1.26281527e+00,\n",
       "        -8.05670852e-01,  6.66992991e-01,  1.01740854e+00,\n",
       "        -6.22449180e-01],\n",
       "       [ 2.19857312e-03,  4.69963780e-01,  5.72432468e-01,\n",
       "         1.24039761e+00, -2.06864889e+00,  9.46364710e-02,\n",
       "         1.19321812e+00, -1.23045955e-01, -2.95064232e-01,\n",
       "         7.43294634e-01,  1.82903883e+00,  2.40082948e-01,\n",
       "         9.41027497e-02,  8.34423547e-01,  1.29744857e+00,\n",
       "         8.13922156e-01,  6.83103520e-02, -1.29052379e-01,\n",
       "        -1.17502590e+00, -1.18046660e+00,  3.41682678e-01,\n",
       "         8.50352470e-01, -9.61332249e-01, -1.82181326e+00,\n",
       "         1.26937845e+00],\n",
       "       [ 6.00695173e-01, -8.92067489e-01,  1.08301662e+00,\n",
       "         1.26320331e+00, -2.32289402e+00,  1.65434360e+00,\n",
       "         9.94973186e-01,  3.42399946e-01, -1.13767841e+00,\n",
       "         5.80876406e-01, -1.85341416e-01,  8.25041362e-01,\n",
       "        -1.51124058e+00,  8.79470186e-01, -6.12944939e-01,\n",
       "        -4.39819160e-01,  4.62199013e-01,  1.41454052e+00,\n",
       "         1.29322019e+00,  3.26435731e-01, -1.87693060e-01,\n",
       "        -1.02176447e+00,  1.57358773e+00,  1.32878589e+00,\n",
       "        -5.15645318e-01],\n",
       "       [ 7.59765106e-01,  6.24040178e-01,  2.78268497e-01,\n",
       "        -1.60941383e-01, -3.24729230e-01, -1.84228127e+00,\n",
       "         3.33742310e-01, -1.01064003e+00, -8.48540198e-01,\n",
       "        -8.56393748e-01, -7.32483245e-01,  2.87524426e-01,\n",
       "        -1.58041513e+00, -9.13641251e-01,  1.36111125e-01,\n",
       "        -1.05512532e+00,  1.47129873e+00,  6.47340045e-01,\n",
       "        -1.23021420e+00, -1.71482443e-01, -1.07310239e+00,\n",
       "         1.12098932e-02,  1.79121689e+00,  2.06949129e+00,\n",
       "        -1.88375686e+00],\n",
       "       [-1.00516023e-01, -3.19312709e-01, -5.29314812e-01,\n",
       "         2.43728780e-01, -7.56838432e-03,  8.18533492e-01,\n",
       "         1.58030673e+00,  9.00771286e-01,  1.92214478e-01,\n",
       "        -2.60455313e-01, -2.02300382e+00,  2.67356766e-01,\n",
       "        -1.89311891e-01,  1.21003892e+00,  1.68805667e+00,\n",
       "        -2.86344039e-01, -1.92141866e-01, -5.51691527e-01,\n",
       "        -1.69470047e+00,  1.25150165e+00, -2.42659628e-01,\n",
       "         2.90376515e-01, -2.68545230e-02,  2.12300434e-01,\n",
       "         1.33824929e-01],\n",
       "       [ 1.50639594e+00,  1.39120260e-01, -1.04625640e+00,\n",
       "         5.35468835e-01,  1.33291915e+00,  1.49658585e+00,\n",
       "         8.18046356e-01,  5.11641744e-01, -1.06027335e+00,\n",
       "        -1.00484836e+00,  1.58807392e-01, -5.32513320e-01,\n",
       "         1.81489385e+00,  1.57995298e-01, -1.50741564e+00,\n",
       "         1.42848453e+00,  1.59286780e-02,  4.76481420e-01,\n",
       "        -9.56884148e-01, -2.57544343e+00,  8.91287648e-01,\n",
       "         1.42556916e+00,  3.42456702e-01,  2.16517008e+00,\n",
       "        -1.61593858e-01],\n",
       "       [-4.67274492e-01, -8.91814298e-01,  1.25937939e+00,\n",
       "         7.91260774e-01, -1.15661194e+00, -1.85733033e-02,\n",
       "        -1.37497029e+00, -1.60283753e+00,  2.84049428e-01,\n",
       "         1.77019670e-01, -7.67665772e-01, -6.89203869e-02,\n",
       "        -2.13814018e+00, -2.21326930e+00,  1.15185435e+00,\n",
       "         2.87443122e-02,  1.64818710e+00, -7.07196339e-01,\n",
       "         1.24143388e+00,  5.98387520e-02, -8.35812501e-02,\n",
       "         1.84287073e-01,  3.25045175e-01,  1.03761314e+00,\n",
       "         5.74060306e-01],\n",
       "       [ 1.60923244e+00,  3.41134060e-01, -6.11048545e-01,\n",
       "         5.73048125e-01, -1.14948591e+00, -4.66430878e-01,\n",
       "        -1.59503981e+00, -1.35290159e+00, -1.92821914e+00,\n",
       "        -6.60470734e-01,  8.82894673e-01, -1.12653993e+00,\n",
       "        -3.02530859e-01,  1.67083361e+00, -1.78032658e+00,\n",
       "        -8.48958259e-01,  8.17101643e-01, -2.73484795e-01,\n",
       "        -1.15219157e+00,  7.41917826e-01, -1.39866930e+00,\n",
       "        -2.28924023e-01,  1.79198572e+00,  7.45584537e-01,\n",
       "         6.78771230e-01],\n",
       "       [-1.16405726e+00, -6.24352041e-01,  5.59644055e-01,\n",
       "        -2.26568559e+00,  2.54219226e+00,  9.55135051e-01,\n",
       "        -3.69380135e-01,  3.09322888e-02,  1.74833039e+00,\n",
       "         3.84248188e-02,  1.67396598e+00, -7.30454992e-01,\n",
       "         6.10830648e-01, -2.39723771e-01,  2.06251008e+00,\n",
       "        -1.70464716e-01,  1.01304151e+00,  2.48816779e+00,\n",
       "        -3.98605114e-01,  2.64724324e-01,  4.20626753e-01,\n",
       "        -2.51754729e-01, -1.92418566e+00, -9.62245786e-01,\n",
       "         7.47730071e-01],\n",
       "       [-8.18860956e-01,  8.55264742e-01, -1.36547233e-01,\n",
       "        -2.65088537e-01, -1.30160668e+00, -9.88719235e-01,\n",
       "         2.58922408e-01, -2.24451200e-01,  6.00168264e-01,\n",
       "        -1.02773191e+00, -1.03463828e+00, -1.30801551e+00,\n",
       "        -4.51437964e-01, -1.06122933e+00, -3.43553182e-02,\n",
       "         1.61251880e+00,  2.51982835e-01,  1.22870918e+00,\n",
       "         1.26550385e+00,  6.43331325e-01,  1.66918171e+00,\n",
       "        -9.95573252e-01, -1.32359272e-02, -4.20111149e-02,\n",
       "        -1.21531400e+00],\n",
       "       [ 1.49894844e+00, -9.91357665e-01, -5.72862540e-01,\n",
       "        -9.06698176e-01, -6.90812124e-01,  6.14549692e-01,\n",
       "        -6.69205890e-01,  2.13858974e-01,  3.55818949e-01,\n",
       "         9.60955580e-01, -5.47986198e-01,  2.66123228e-01,\n",
       "         8.03078945e-01, -1.53239862e+00, -2.70481307e-01,\n",
       "        -2.77415709e-01, -9.01755667e-01, -1.34796445e+00,\n",
       "         7.18633631e-01, -1.12579596e+00, -1.76244678e+00,\n",
       "         5.50698454e-01, -6.57665767e-01, -7.17393774e-01,\n",
       "         4.00484874e-01],\n",
       "       [ 9.62895216e-01, -1.38813046e+00, -1.84526979e-02,\n",
       "        -1.03748199e+00,  1.78792672e+00,  5.73009548e-01,\n",
       "         1.47947545e-01,  5.42188648e-01, -1.10200668e+00,\n",
       "         7.84787273e-02,  1.59570588e+00, -5.30726125e-01,\n",
       "        -6.42258458e-01, -1.52355681e-01,  7.08116053e-01,\n",
       "         6.73316560e-01, -8.98658895e-01, -9.03047249e-01,\n",
       "        -2.51297017e-01, -7.70026611e-01,  4.11674386e-01,\n",
       "         1.39157746e+00, -1.27145088e+00, -7.43122225e-01,\n",
       "         9.89894461e-01]])"
      ]
     },
     "execution_count": 162,
     "metadata": {},
     "output_type": "execute_result"
    }
   ],
   "source": [
    "np.random.randn(25,25)"
   ]
  },
  {
   "cell_type": "code",
   "execution_count": 165,
   "id": "307669f0",
   "metadata": {},
   "outputs": [
    {
     "data": {
      "text/plain": [
       "array([[0.  , 0.01, 0.02, 0.03, 0.04, 0.05, 0.06, 0.07, 0.08, 0.09],\n",
       "       [0.1 , 0.11, 0.12, 0.13, 0.14, 0.15, 0.16, 0.17, 0.18, 0.19],\n",
       "       [0.2 , 0.21, 0.22, 0.23, 0.24, 0.25, 0.26, 0.27, 0.28, 0.29],\n",
       "       [0.3 , 0.31, 0.32, 0.33, 0.34, 0.35, 0.36, 0.37, 0.38, 0.39],\n",
       "       [0.4 , 0.41, 0.42, 0.43, 0.44, 0.45, 0.46, 0.47, 0.48, 0.49],\n",
       "       [0.5 , 0.51, 0.52, 0.53, 0.54, 0.55, 0.56, 0.57, 0.58, 0.59],\n",
       "       [0.6 , 0.61, 0.62, 0.63, 0.64, 0.65, 0.66, 0.67, 0.68, 0.69],\n",
       "       [0.7 , 0.71, 0.72, 0.73, 0.74, 0.75, 0.76, 0.77, 0.78, 0.79],\n",
       "       [0.8 , 0.81, 0.82, 0.83, 0.84, 0.85, 0.86, 0.87, 0.88, 0.89],\n",
       "       [0.9 , 0.91, 0.92, 0.93, 0.94, 0.95, 0.96, 0.97, 0.98, 0.99]])"
      ]
     },
     "execution_count": 165,
     "metadata": {},
     "output_type": "execute_result"
    }
   ],
   "source": [
    "np.arange(0,100).reshape(10,10)/100"
   ]
  },
  {
   "cell_type": "code",
   "execution_count": 169,
   "id": "13c5167d",
   "metadata": {},
   "outputs": [
    {
     "data": {
      "text/plain": [
       "array([[ 0,  1,  2,  3,  4],\n",
       "       [ 5,  6,  7,  8,  9],\n",
       "       [10, 11, 12, 13, 14],\n",
       "       [15, 16, 17, 18, 19],\n",
       "       [20, 21, 22, 23, 24]])"
      ]
     },
     "execution_count": 169,
     "metadata": {},
     "output_type": "execute_result"
    }
   ],
   "source": [
    "arr8=np.arange(0,25).reshape(5,5)\n",
    "arr8"
   ]
  },
  {
   "cell_type": "code",
   "execution_count": 171,
   "id": "260b2158",
   "metadata": {},
   "outputs": [
    {
     "data": {
      "text/plain": [
       "array([[12, 13, 14],\n",
       "       [17, 18, 19],\n",
       "       [22, 23, 24]])"
      ]
     },
     "execution_count": 171,
     "metadata": {},
     "output_type": "execute_result"
    }
   ],
   "source": [
    "arr8[2:,2:]"
   ]
  },
  {
   "cell_type": "code",
   "execution_count": 172,
   "id": "7ac383f8",
   "metadata": {},
   "outputs": [
    {
     "data": {
      "text/plain": [
       "20"
      ]
     },
     "execution_count": 172,
     "metadata": {},
     "output_type": "execute_result"
    }
   ],
   "source": [
    "arr8[4,0]"
   ]
  },
  {
   "cell_type": "code",
   "execution_count": 179,
   "id": "1ef8e6ec",
   "metadata": {},
   "outputs": [
    {
     "data": {
      "text/plain": [
       "array([[ 2],\n",
       "       [ 7],\n",
       "       [12]])"
      ]
     },
     "execution_count": 179,
     "metadata": {},
     "output_type": "execute_result"
    }
   ],
   "source": [
    "arr8[:3,2:3]"
   ]
  },
  {
   "cell_type": "code",
   "execution_count": 181,
   "id": "83d41a1d",
   "metadata": {},
   "outputs": [
    {
     "data": {
      "text/plain": [
       "300"
      ]
     },
     "execution_count": 181,
     "metadata": {},
     "output_type": "execute_result"
    }
   ],
   "source": [
    "arr8.sum()"
   ]
  },
  {
   "cell_type": "code",
   "execution_count": 182,
   "id": "724a77bc",
   "metadata": {},
   "outputs": [
    {
     "data": {
      "text/plain": [
       "7.211102550927978"
      ]
     },
     "execution_count": 182,
     "metadata": {},
     "output_type": "execute_result"
    }
   ],
   "source": [
    "arr8.std()"
   ]
  },
  {
   "cell_type": "code",
   "execution_count": 184,
   "id": "2b44d233",
   "metadata": {},
   "outputs": [
    {
     "data": {
      "text/plain": [
       "array([50, 55, 60, 65, 70])"
      ]
     },
     "execution_count": 184,
     "metadata": {},
     "output_type": "execute_result"
    }
   ],
   "source": [
    "arr8.sum(axis=0)"
   ]
  },
  {
   "cell_type": "code",
   "execution_count": 185,
   "id": "3c0d0dc5",
   "metadata": {},
   "outputs": [
    {
     "data": {
      "text/plain": [
       "array([ 10,  35,  60,  85, 110])"
      ]
     },
     "execution_count": 185,
     "metadata": {},
     "output_type": "execute_result"
    }
   ],
   "source": [
    "arr8.sum(axis=1)"
   ]
  },
  {
   "cell_type": "code",
   "execution_count": null,
   "id": "483cc0a4",
   "metadata": {},
   "outputs": [],
   "source": []
  }
 ],
 "metadata": {
  "kernelspec": {
   "display_name": "Python 3 (ipykernel)",
   "language": "python",
   "name": "python3"
  },
  "language_info": {
   "codemirror_mode": {
    "name": "ipython",
    "version": 3
   },
   "file_extension": ".py",
   "mimetype": "text/x-python",
   "name": "python",
   "nbconvert_exporter": "python",
   "pygments_lexer": "ipython3",
   "version": "3.9.12"
  }
 },
 "nbformat": 4,
 "nbformat_minor": 5
}
